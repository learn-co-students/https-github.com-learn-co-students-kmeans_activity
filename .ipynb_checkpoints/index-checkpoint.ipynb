{
 "cells": [
  {
   "cell_type": "markdown",
   "metadata": {
    "index": 0
   },
   "source": [
    "# KMeans Review"
   ]
  },
  {
   "cell_type": "markdown",
   "metadata": {
    "index": 1
   },
   "source": [
    "# Describe the process of the KMeans Algorithm"
   ]
  },
  {
   "cell_type": "markdown",
   "metadata": {
    "index": 2
   },
   "source": [
    "Question: What form do we need the target to be in?"
   ]
  },
  {
   "cell_type": "markdown",
   "metadata": {
    "index": 3
   },
   "source": [
    "> Your answer here"
   ]
  },
  {
   "cell_type": "markdown",
   "metadata": {
    "index": 4
   },
   "source": [
    "==SOLUTION== \n",
    "Trick question: this is unsupervised learning.  The KMeans algorithm does not require a target."
   ]
  },
  {
   "cell_type": "markdown",
   "metadata": {
    "index": 5
   },
   "source": [
    "### Describe Step 1 (think initializations)"
   ]
  },
  {
   "cell_type": "markdown",
   "metadata": {
    "index": 6
   },
   "source": [
    "> Your answer here"
   ]
  },
  {
   "cell_type": "markdown",
   "metadata": {
    "index": 7
   },
   "source": [
    "==SOLUTION== \n",
    "The data scientist tells the KMeans algorithm how many clusters to find.  KMeans then initializes that many clusters in random points in the feature space.  By default, KMeans uses kmeans++, which \"selects initial cluster centers for k-mean clustering in a smart way to speed up convergence.\" [source](https://scikit-learn.org/stable/modules/generated/sklearn.cluster.KMeans.html)"
   ]
  },
  {
   "cell_type": "markdown",
   "metadata": {
    "index": 8
   },
   "source": [
    "### Describe Step 2 (think distance)"
   ]
  },
  {
   "cell_type": "markdown",
   "metadata": {
    "index": 9
   },
   "source": [
    "> Your answer here"
   ]
  },
  {
   "cell_type": "markdown",
   "metadata": {},
   "source": [
    "==SOLUTION==\n",
    "The distance between each cluster center and each point is calculated. The distance metric can be changed, but is euclidean by default."
   ]
  },
  {
   "cell_type": "markdown",
   "metadata": {
    "index": 10
   },
   "source": [
    "### Describe Step 3 (think assignment)"
   ]
  },
  {
   "cell_type": "markdown",
   "metadata": {
    "index": 11
   },
   "source": [
    "> Your answer here"
   ]
  },
  {
   "cell_type": "markdown",
   "metadata": {},
   "source": [
    "==SOLUTION==\n",
    "Each point is assigned to the closest cluster center. "
   ]
  },
  {
   "cell_type": "markdown",
   "metadata": {
    "index": 12
   },
   "source": [
    "### Describe Step 4 (think updates)"
   ]
  },
  {
   "cell_type": "markdown",
   "metadata": {
    "index": 13
   },
   "source": [
    "> Your answer here"
   ]
  },
  {
   "cell_type": "markdown",
   "metadata": {},
   "source": [
    "==SOLUTION==\n",
    "New cluster centers are created for each group. These new centers are placed at the mean of the values assigned to each group.  "
   ]
  },
  {
   "cell_type": "markdown",
   "metadata": {
    "index": 14
   },
   "source": [
    "### When does the algorithm stop?"
   ]
  },
  {
   "cell_type": "markdown",
   "metadata": {
    "index": 15
   },
   "source": [
    "> Your answer here"
   ]
  },
  {
   "cell_type": "markdown",
   "metadata": {},
   "source": [
    "==SOLUTION==\n",
    "\n",
    "The process of label assignment repeats, adjusting the cluster centers each time.  Once the cluster centers no longer move (move less than a threshold), or a max number of iterations has been reached."
   ]
  },
  {
   "cell_type": "markdown",
   "metadata": {
    "index": 16
   },
   "source": [
    "### Define inertia"
   ]
  },
  {
   "cell_type": "markdown",
   "metadata": {
    "index": 17
   },
   "source": [
    "> Your answer here"
   ]
  },
  {
   "cell_type": "markdown",
   "metadata": {},
   "source": [
    "==SOLUTION==\n",
    "\n",
    "The average of the sum of squared error over all classes.  Sum of squared errors is the square of the distance of each point from the respective cluster center added together.  Inertia is a metric that indicates how tightly packed a cluster is.  The lower the inertia the better. "
   ]
  },
  {
   "cell_type": "markdown",
   "metadata": {
    "index": 18
   },
   "source": [
    "# Activity"
   ]
  },
  {
   "cell_type": "markdown",
   "metadata": {
    "index": 19
   },
   "source": [
    "Let's practice k-means clustering with an image of a piece of art. "
   ]
  },
  {
   "cell_type": "code",
   "execution_count": null,
   "metadata": {
    "index": 20
   },
   "outputs": [],
   "source": [
    "# Our new clustering class\n",
    "from sklearn.cluster import KMeans\n",
    "\n",
    "import matplotlib.pyplot as plt\n",
    "# Allows us to visualize images through matplotlib plot methods\n",
    "import matplotlib.image as mpimg\n",
    "\n",
    "# Old favorites\n",
    "import pandas as pd\n",
    "import numpy as np"
   ]
  },
  {
   "cell_type": "markdown",
   "metadata": {
    "index": 21
   },
   "source": [
    "Let's look at a colorful Miro painting with matplotlib."
   ]
  },
  {
   "cell_type": "code",
   "execution_count": null,
   "metadata": {
    "index": 22
   },
   "outputs": [],
   "source": [
    "fig, ax = plt.subplots(figsize=(10,10))\n",
    "img = mpimg.imread('data/miro.jpg')\n",
    "imgplot = ax.imshow(img)"
   ]
  },
  {
   "cell_type": "markdown",
   "metadata": {
    "index": 23
   },
   "source": [
    "Question: What is the shape of the image, and what does each component represent?"
   ]
  },
  {
   "cell_type": "markdown",
   "metadata": {},
   "source": [
    "==SOLUTION==  \n",
    "1200 rows by 1445 columns.  Each element has 3 dimensions, which correspond to RGB values."
   ]
  },
  {
   "cell_type": "code",
   "execution_count": null,
   "metadata": {
    "index": 24
   },
   "outputs": [],
   "source": [
    "# Code here to show the dimensions"
   ]
  },
  {
   "cell_type": "code",
   "execution_count": null,
   "metadata": {},
   "outputs": [],
   "source": [
    "#__SOLUTION__  \n",
    "img.shape"
   ]
  },
  {
   "cell_type": "code",
   "execution_count": null,
   "metadata": {
    "index": 25
   },
   "outputs": [],
   "source": [
    "# Let's look at one pixel"
   ]
  },
  {
   "cell_type": "code",
   "execution_count": null,
   "metadata": {},
   "outputs": [],
   "source": [
    "#__SOLUTION__  \n",
    "# put this array into https://www.colorhexa.com/ to see it is red\n",
    "img[900,1200,:]"
   ]
  },
  {
   "cell_type": "code",
   "execution_count": null,
   "metadata": {
    "index": 26
   },
   "outputs": [],
   "source": [
    "# Flatten the image so that each row represents one RGB triad\n",
    "img_reshape = None"
   ]
  },
  {
   "cell_type": "code",
   "execution_count": null,
   "metadata": {},
   "outputs": [],
   "source": [
    "#__SOLUTION__\n",
    "img_reshape = img.reshape(-1,3)\n"
   ]
  },
  {
   "cell_type": "code",
   "execution_count": null,
   "metadata": {
    "index": 27
   },
   "outputs": [],
   "source": [
    "# Check the shape\n",
    "img_reshape.shape"
   ]
  },
  {
   "cell_type": "code",
   "execution_count": null,
   "metadata": {
    "index": 28
   },
   "outputs": [],
   "source": [
    "# after clustering, we will restore the original shape\n",
    "# the code below demonstrates that the original image is restored by reshaping\n",
    "# to the original dimensions \n",
    "\n",
    "fig, ax = plt.subplots(figsize=(10,10))\n",
    "img = mpimg.imread('./data/miro.jpg')\n",
    "restored_image = img_reshape.reshape(img.shape[0],img.shape[1], 3)\n",
    "imgplot = ax.imshow(restored_image)\n",
    "\n"
   ]
  },
  {
   "cell_type": "markdown",
   "metadata": {
    "index": 29
   },
   "source": [
    "In a group we will use the KMeans algorithm to reduce the number of colors in the photo.   \n",
    "\n",
    "Start by reducing the number of colors to 2.  To do so we will have to pass an appropriate argument  when instantianting a KMeans object.  The number of clusters we initiate will determine the number of colors that the image is reduced to.\n",
    "\n",
    "In order to visualize the groupings, we will replace the original pixel values with the cluster centers associated with the assigned label."
   ]
  },
  {
   "cell_type": "code",
   "execution_count": null,
   "metadata": {
    "index": 30
   },
   "outputs": [],
   "source": [
    "# Reminder of our flattened image\n",
    "img_reshape.shape"
   ]
  },
  {
   "cell_type": "code",
   "execution_count": null,
   "metadata": {
    "index": 31
   },
   "outputs": [],
   "source": [
    "# Instantiate a KMeans object with the argument n_clusters equal to 2\n",
    "# code here\n",
    "km = None"
   ]
  },
  {
   "cell_type": "code",
   "execution_count": null,
   "metadata": {},
   "outputs": [],
   "source": [
    "#__SOLUTION__\n",
    "km = KMeans(n_clusters=2)"
   ]
  },
  {
   "cell_type": "code",
   "execution_count": null,
   "metadata": {
    "index": 32
   },
   "outputs": [],
   "source": [
    "# Fit the km object to img_reshape\n",
    "# code here"
   ]
  },
  {
   "cell_type": "code",
   "execution_count": null,
   "metadata": {},
   "outputs": [],
   "source": [
    "#__SOLUTION__\n",
    "km.fit(img_reshape)"
   ]
  },
  {
   "cell_type": "code",
   "execution_count": null,
   "metadata": {
    "index": 33
   },
   "outputs": [],
   "source": [
    "# view the assigned labels via the labels_ attribute\n",
    "# code here"
   ]
  },
  {
   "cell_type": "code",
   "execution_count": null,
   "metadata": {},
   "outputs": [],
   "source": [
    "#__SOLUTION__\n",
    "km.labels_"
   ]
  },
  {
   "cell_type": "code",
   "execution_count": null,
   "metadata": {
    "index": 34
   },
   "outputs": [],
   "source": [
    "# view the cluster centers via the cluster_centers_ attribute\n",
    "# code here"
   ]
  },
  {
   "cell_type": "code",
   "execution_count": null,
   "metadata": {},
   "outputs": [],
   "source": [
    "#__SOLUTION__\n",
    "km.cluster_centers_"
   ]
  },
  {
   "cell_type": "code",
   "execution_count": null,
   "metadata": {
    "index": 35
   },
   "outputs": [],
   "source": [
    "# create a list which stores the cluster center associated with each label in a list.  \n",
    "# The list should be 1734000 elements long\n",
    "\n",
    "label_centers = []\n",
    "for label in km.labels_:\n",
    "    None"
   ]
  },
  {
   "cell_type": "code",
   "execution_count": null,
   "metadata": {},
   "outputs": [],
   "source": [
    "#__SOLUTION__\n",
    "\n",
    "label_centers = []\n",
    "for label in km.labels_:\n",
    "    label_centers.append(km.cluster_centers_[label])"
   ]
  },
  {
   "cell_type": "code",
   "execution_count": null,
   "metadata": {
    "index": 36
   },
   "outputs": [],
   "source": [
    "# Convert list to array\n",
    "centers_2 = np.array(label_centers)"
   ]
  },
  {
   "cell_type": "code",
   "execution_count": null,
   "metadata": {
    "index": 37
   },
   "outputs": [],
   "source": [
    "# check shape is (1734000, 3)\n",
    "centers_2.shape"
   ]
  },
  {
   "cell_type": "code",
   "execution_count": null,
   "metadata": {
    "index": 38
   },
   "outputs": [],
   "source": [
    "# reshape to (1200, 1445, 3)\n",
    "new_image_2 = None\n",
    "new_image_2.shape"
   ]
  },
  {
   "cell_type": "code",
   "execution_count": null,
   "metadata": {},
   "outputs": [],
   "source": [
    "#__SOLUTION__\n",
    "new_image_2 = centers_2.reshape(1200, 1445,3)\n"
   ]
  },
  {
   "cell_type": "code",
   "execution_count": null,
   "metadata": {
    "index": 39
   },
   "outputs": [],
   "source": [
    "# Run the cell below to plot the new image.  It should have only 2 colors"
   ]
  },
  {
   "cell_type": "code",
   "execution_count": null,
   "metadata": {
    "index": 40
   },
   "outputs": [],
   "source": [
    "fig, ax = plt.subplots(figsize=(10,10))\n",
    "imgplot = ax.imshow(new_image_2.astype(int))"
   ]
  },
  {
   "cell_type": "markdown",
   "metadata": {
    "index": 41
   },
   "source": [
    "# On your own...\n",
    "try out different numbers of clusters and see their affect on the painting.\n",
    "Use a function to try out different numbers quickly."
   ]
  },
  {
   "cell_type": "code",
   "execution_count": null,
   "metadata": {
    "index": 42
   },
   "outputs": [],
   "source": [
    "#your code here"
   ]
  },
  {
   "cell_type": "code",
   "execution_count": null,
   "metadata": {},
   "outputs": [],
   "source": [
    "#__SOLUTION__\n",
    "\n",
    "def painting_uglifier(n_clusters, flat_image = img_reshape):\n",
    "    \n",
    "    '''\n",
    "    Given a number of center initializations,\n",
    "    reduce an image of a painting from full color\n",
    "    to a n_clusters number of colors painting.\n",
    "    '''\n",
    "    \n",
    "    km = KMeans(n_clusters=n_clusters)\n",
    "    km.fit(flat_image)\n",
    "    \n",
    "    label_centers = []\n",
    "    for label in km.labels_:\n",
    "        label_centers.append(km.cluster_centers_[label])\n",
    "    \n",
    "    centers = np.array(label_centers)\n",
    "    new_image = centers.reshape(1200, 1445,3)\n",
    "    \n",
    "    fig, ax = plt.subplots(figsize=(10,10))\n",
    "    imgplot = ax.imshow(new_image.astype(int))\n",
    "    "
   ]
  },
  {
   "cell_type": "code",
   "execution_count": null,
   "metadata": {},
   "outputs": [],
   "source": []
  }
 ],
 "metadata": {
  "kernelspec": {
   "display_name": "learn-env",
   "language": "python",
   "name": "learn-env"
  },
  "language_info": {
   "codemirror_mode": {
    "name": "ipython",
    "version": 3
   },
   "file_extension": ".py",
   "mimetype": "text/x-python",
   "name": "python",
   "nbconvert_exporter": "python",
   "pygments_lexer": "ipython3",
   "version": "3.8.5"
  }
 },
 "nbformat": 4,
 "nbformat_minor": 4
}
